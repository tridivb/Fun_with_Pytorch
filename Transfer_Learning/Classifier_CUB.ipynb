{
  "nbformat": 4,
  "nbformat_minor": 0,
  "metadata": {
    "colab": {
      "name": "Classifier_CUB.ipynb",
      "version": "0.3.2",
      "provenance": [],
      "toc_visible": true
    },
    "kernelspec": {
      "name": "python3",
      "display_name": "Python 3"
    },
    "accelerator": "GPU"
  },
  "cells": [
    {
      "metadata": {
        "id": "6Ipu97q1jG6q",
        "colab_type": "text"
      },
      "cell_type": "markdown",
      "source": [
        "####  Transfer Learning"
      ]
    },
    {
      "metadata": {
        "id": "X9pGlCLmpKAw",
        "colab_type": "code",
        "colab": {
          "base_uri": "https://localhost:8080/",
          "height": 55
        },
        "outputId": "b1cb97dd-bc05-4b60-a488-af9a29d6a83b"
      },
      "cell_type": "code",
      "source": [
        "# http://pytorch.org/\n",
        "from os.path import exists\n",
        "from wheel.pep425tags import get_abbr_impl, get_impl_ver, get_abi_tag\n",
        "platform = '{}{}-{}'.format(get_abbr_impl(), get_impl_ver(), get_abi_tag())\n",
        "cuda_output = !ldconfig -p|grep cudart.so|sed -e 's/.*\\.\\([0-9]*\\)\\.\\([0-9]*\\)$/cu\\1\\2/'\n",
        "accelerator = cuda_output[0] if exists('/dev/nvidia0') else 'cpu'\n",
        "\n",
        "!pip install -q http://download.pytorch.org/whl/{accelerator}/torch-0.4.1-{platform}-linux_x86_64.whl torchvision\n",
        "import torch"
      ],
      "execution_count": 2,
      "outputs": [
        {
          "output_type": "stream",
          "text": [
            "tcmalloc: large alloc 1073750016 bytes == 0x58782000 @  0x7f51b7aa92a4 0x591a07 0x5b5d56 0x502e9a 0x506859 0x502209 0x502f3d 0x506859 0x504c28 0x502540 0x502f3d 0x506859 0x504c28 0x502540 0x502f3d 0x506859 0x504c28 0x502540 0x502f3d 0x507641 0x502209 0x502f3d 0x506859 0x504c28 0x502540 0x502f3d 0x507641 0x504c28 0x502540 0x502f3d 0x507641\n"
          ],
          "name": "stdout"
        }
      ]
    },
    {
      "metadata": {
        "id": "3wp4l4uIjG6z",
        "colab_type": "code",
        "outputId": "78808e40-1429-46bb-a002-7ed81734637e",
        "colab": {
          "base_uri": "https://localhost:8080/",
          "height": 35
        }
      },
      "cell_type": "code",
      "source": [
        "%matplotlib inline\n",
        "\n",
        "import torch\n",
        "import torch.nn as nn\n",
        "import torch.nn.functional as F\n",
        "import torch.optim as optim\n",
        "from torchvision import datasets, transforms, models\n",
        "from torch.autograd import Variable\n",
        "\n",
        "import numpy as np\n",
        "import matplotlib.pyplot as plt\n",
        "import time\n",
        "import os\n",
        "\n",
        "device = torch.device(\"cuda\" if torch.cuda.is_available() else \"cpu\")\n",
        "print('Using PyTorch version:', torch.__version__, 'Device:', device)\n",
        "\n",
        "torch.manual_seed(42)\n",
        "if torch.cuda.is_available():\n",
        "    torch.cuda.manual_seed(42)"
      ],
      "execution_count": 3,
      "outputs": [
        {
          "output_type": "stream",
          "text": [
            "Using PyTorch version: 0.4.1 Device: cuda\n"
          ],
          "name": "stdout"
        }
      ]
    },
    {
      "metadata": {
        "id": "zP7yR0CMjG7C",
        "colab_type": "code",
        "colab": {}
      },
      "cell_type": "code",
      "source": [
        "def train(model, trainLoader, criterion, optimizer, epoch, logInterval=100):\n",
        "    model.train()\n",
        "    for batchIdx, (data, target) in enumerate(trainLoader):\n",
        "        data, target = data.to(device), target.to(device)\n",
        "        optimizer.zero_grad()\n",
        "        output = model(data)\n",
        "        loss = criterion(output, target)\n",
        "        loss.backward()\n",
        "        optimizer.step()\n",
        "        if batchIdx % logInterval == 0:\n",
        "            print('Train Epoch: {} [{}/{} ({:.0f}%)]\\tLoss: {:.6f}'\n",
        "                  .format(epoch, batchIdx * len(data), len(trainLoader.dataset), \n",
        "                          100. * batchIdx / len(trainLoader), loss.item())\n",
        "                 )\n",
        "    return loss.item()\n",
        "\n",
        "def test(model, testLoader, criterion, optimizer):\n",
        "    model.eval()\n",
        "    testLoss = 0.0\n",
        "    correct = 0.0\n",
        "    with torch.no_grad():\n",
        "        for data, target in testLoader:\n",
        "            data, target = data.to(device), target.to(device)\n",
        "            output = model(data)\n",
        "            testLoss += criterion(output, target).item()\n",
        "            pred = output.data.max(1, keepdim=True)[1]\n",
        "            correct += pred.eq(target.view_as(pred)).sum().item()\n",
        "            \n",
        "    testLoss /= len(testLoader.dataset)\n",
        "    accuracy = 100 * (correct / len(testLoader.dataset))\n",
        "    print('\\nTest set: Average loss: {:.4f}, Accuracy: {}/{} ({:.0f}%)\\n'\n",
        "          .format(testLoss, correct, len(testLoader.dataset), accuracy))\n",
        "    return testLoss, accuracy"
      ],
      "execution_count": 0,
      "outputs": []
    },
    {
      "metadata": {
        "id": "c11WZ_v4jG7K",
        "colab_type": "code",
        "colab": {}
      },
      "cell_type": "code",
      "source": [
        "def plotGraph(X, Y, yLabel, xLabel, title):\n",
        "    ''' Helper function to plot the performance metrics\n",
        "    args:\n",
        "    X - X axis data (epochs)\n",
        "    Y - Y axis data (loss/accuracy)    \n",
        "    yLabel - Y axis Label\n",
        "    xLabel - X axis Label\n",
        "    title - Title for graph\n",
        "    '''\n",
        "    fig = plt.figure()\n",
        "    plt.plot(X, Y)\n",
        "    plt.xlabel = xLabel\n",
        "    plt.ylabel = yLabel\n",
        "    plt.title(title)\n",
        "\n",
        "def visualize_images(model, testLoader, num_images=6):\n",
        "    ''' Helper function to visualize images and their predicted labels\n",
        "    args:\n",
        "    model - The trained model\n",
        "    testLoader - The validation dataset\n",
        "    num_images - Number of images to display [default=6]\n",
        "    '''\n",
        "    class_names = ['not_soccer_ball','soccer_ball']\n",
        "    images_so_far = 0\n",
        "    fig = plt.figure()\n",
        "\n",
        "    for i, (data, labels) in enumerate(testLoader):\n",
        "        data, target = data.to(device), labels.to(device)\n",
        "\n",
        "        output = model(data)\n",
        "        preds = output.data.max(1, keepdim=True)[1]\n",
        "\n",
        "        for j in range(data.size()[0]):\n",
        "            images_so_far += 1\n",
        "            ax = plt.subplot(num_images, 1, images_so_far)\n",
        "            ax.axis('off')\n",
        "            ax.set_title('predicted: {}'.format(class_names[preds[j]]))\n",
        "            if device.type == 'cuda':\n",
        "                img = data[j].cpu().numpy()\n",
        "            else:\n",
        "                img = data[j].numpy()\n",
        "            img = img.transpose((1, 2, 0))\n",
        "            mean = np.array([0.485, 0.456, 0.406])\n",
        "            std = np.array([0.229, 0.224, 0.225])\n",
        "            img = std * img + mean\n",
        "            img = np.clip(img, 0, 1)\n",
        "            plt.imshow(img)\n",
        "            plt.figure(figsize=(32,32))\n",
        "\n",
        "            if images_so_far == num_images:\n",
        "                return"
      ],
      "execution_count": 0,
      "outputs": []
    },
    {
      "metadata": {
        "id": "Ngevl_b8jms8",
        "colab_type": "code",
        "outputId": "bb8e0d40-c370-4f35-b5bc-ba857083a5c5",
        "colab": {
          "base_uri": "https://localhost:8080/",
          "height": 235
        }
      },
      "cell_type": "code",
      "source": [
        "# Download the dataset\n",
        "if os.path.exists('./CUB_200_2011') == False:\n",
        "  !wget http://www.vision.caltech.edu/visipedia-data/CUB-200-2011/CUB_200_2011.tgz\n",
        "  !tar -xzf CUB_200_2011.tgz\n",
        "else:\n",
        "  print('Dataset already present')\n",
        "\n",
        "dataDir = './CUB_200_2011/images'\n",
        "print(dataDir)"
      ],
      "execution_count": 6,
      "outputs": [
        {
          "output_type": "stream",
          "text": [
            "--2018-12-23 15:07:21--  http://www.vision.caltech.edu/visipedia-data/CUB-200-2011/CUB_200_2011.tgz\n",
            "Resolving www.vision.caltech.edu (www.vision.caltech.edu)... 34.208.54.77\n",
            "Connecting to www.vision.caltech.edu (www.vision.caltech.edu)|34.208.54.77|:80... connected.\n",
            "HTTP request sent, awaiting response... 200 OK\n",
            "Length: 1150585339 (1.1G) [application/x-tar]\n",
            "Saving to: ‘CUB_200_2011.tgz’\n",
            "\n",
            "CUB_200_2011.tgz    100%[===================>]   1.07G  5.58MB/s    in 3m 42s  \n",
            "\n",
            "2018-12-23 15:11:04 (4.94 MB/s) - ‘CUB_200_2011.tgz’ saved [1150585339/1150585339]\n",
            "\n",
            "./CUB_200_2011/images\n"
          ],
          "name": "stdout"
        }
      ]
    },
    {
      "metadata": {
        "id": "kiZiSW5EjG7R",
        "colab_type": "code",
        "colab": {}
      },
      "cell_type": "code",
      "source": [
        "batchSize = 32\n",
        "testBatchSize = 64\n",
        "\n",
        "# Load the CUB Dataset\n",
        "cubDataset = datasets.ImageFolder(dataDir, \n",
        "                                  transform=transforms.Compose([\n",
        "                                      transforms.Resize((224,224)),\n",
        "                                      transforms.RandomHorizontalFlip(),\n",
        "                                      transforms.ToTensor(),\n",
        "                                      # transforms.Normalize([0.4860, 0.4997, 0.4318], [0.1613, 0.1603, 0.1723])\n",
        "                                      transforms.Normalize([0.485, 0.456, 0.406], [0.229, 0.224, 0.225])\n",
        "                                  ]))\n",
        "\n",
        "# Split the dataset randomly into 80% for training and 20% for validation\n",
        "trainLen = int(0.8*len(cubDataset))\n",
        "testLen = len(cubDataset) - trainLen\n",
        "trainSet, testSet = torch.utils.data.random_split(cubDataset, [trainLen, testLen])\n",
        "\n",
        "trainLoader = torch.utils.data.DataLoader(trainSet,\n",
        "                                          batch_size=batchSize, \n",
        "                                          shuffle=True, num_workers=4)\n",
        "testLoader = torch.utils.data.DataLoader(testSet, \n",
        "                                          batch_size=testBatchSize, \n",
        "                                          shuffle=False, num_workers=4)"
      ],
      "execution_count": 0,
      "outputs": []
    },
    {
      "metadata": {
        "id": "RDq3g607jG7W",
        "colab_type": "code",
        "colab": {
          "base_uri": "https://localhost:8080/",
          "height": 53
        },
        "outputId": "9a07ea60-f66f-4cde-b4b9-730b06ad7a32"
      },
      "cell_type": "code",
      "source": [
        "lr = 0.00002\n",
        "epochs = 15\n",
        "outputDims = 200\n",
        "\n",
        "# Load the model\n",
        "model = models.resnet101(pretrained=True)\n",
        "\n",
        "# Reset the final fully connected layer as per requirement\n",
        "numFtrs = model.fc.in_features\n",
        "model.fc = nn.Linear(numFtrs, outputDims)\n",
        "model = model.to(device)\n",
        "# print(model)\n",
        "\n",
        "criterion = nn.CrossEntropyLoss()\n",
        "criterion = criterion.to(device)\n",
        "optimizer = optim.Adam(model.parameters(), lr=lr, betas=(0.9,0.999))\n"
      ],
      "execution_count": 8,
      "outputs": [
        {
          "output_type": "stream",
          "text": [
            "Downloading: \"https://download.pytorch.org/models/resnet101-5d3b4d8f.pth\" to /root/.torch/models/resnet101-5d3b4d8f.pth\n",
            "100%|██████████| 178728960/178728960 [00:03<00:00, 53787094.55it/s]\n"
          ],
          "name": "stderr"
        }
      ]
    },
    {
      "metadata": {
        "id": "Sk224fUYjG7b",
        "colab_type": "code",
        "outputId": "71600eb7-165e-40c0-cd5a-c4f352c513fb",
        "colab": {
          "base_uri": "https://localhost:8080/",
          "height": 1961
        }
      },
      "cell_type": "code",
      "source": [
        "%%time\n",
        "\n",
        "trainLoss = []\n",
        "testLoss = []\n",
        "testAcc = []\n",
        "\n",
        "for epoch in range(1, epochs+1):\n",
        "    trainLoss.append(train(model, trainLoader, criterion, optimizer, epoch, logInterval=75))\n",
        "    loss, acc= test(model, testLoader, criterion, optimizer)\n",
        "    testLoss.append(loss)\n",
        "    testAcc.append(acc)"
      ],
      "execution_count": 12,
      "outputs": [
        {
          "output_type": "stream",
          "text": [
            "Train Epoch: 1 [0/9430 (0%)]\tLoss: 5.446386\n",
            "Train Epoch: 1 [2400/9430 (25%)]\tLoss: 5.109717\n",
            "Train Epoch: 1 [4800/9430 (51%)]\tLoss: 4.654052\n",
            "Train Epoch: 1 [7200/9430 (76%)]\tLoss: 4.278827\n",
            "\n",
            "Test set: Average loss: 0.0579, Accuracy: 850.0/2358 (36%)\n",
            "\n",
            "Train Epoch: 2 [0/9430 (0%)]\tLoss: 3.662134\n",
            "Train Epoch: 2 [2400/9430 (25%)]\tLoss: 3.425280\n",
            "Train Epoch: 2 [4800/9430 (51%)]\tLoss: 3.013241\n",
            "Train Epoch: 2 [7200/9430 (76%)]\tLoss: 2.972986\n",
            "\n",
            "Test set: Average loss: 0.0392, Accuracy: 1262.0/2358 (54%)\n",
            "\n",
            "Train Epoch: 3 [0/9430 (0%)]\tLoss: 2.405255\n",
            "Train Epoch: 3 [2400/9430 (25%)]\tLoss: 2.180941\n",
            "Train Epoch: 3 [4800/9430 (51%)]\tLoss: 2.393888\n",
            "Train Epoch: 3 [7200/9430 (76%)]\tLoss: 1.873890\n",
            "\n",
            "Test set: Average loss: 0.0273, Accuracy: 1497.0/2358 (63%)\n",
            "\n",
            "Train Epoch: 4 [0/9430 (0%)]\tLoss: 1.628819\n",
            "Train Epoch: 4 [2400/9430 (25%)]\tLoss: 1.693662\n",
            "Train Epoch: 4 [4800/9430 (51%)]\tLoss: 1.339441\n",
            "Train Epoch: 4 [7200/9430 (76%)]\tLoss: 1.141205\n",
            "\n",
            "Test set: Average loss: 0.0206, Accuracy: 1669.0/2358 (71%)\n",
            "\n",
            "Train Epoch: 5 [0/9430 (0%)]\tLoss: 1.025780\n",
            "Train Epoch: 5 [2400/9430 (25%)]\tLoss: 0.871789\n",
            "Train Epoch: 5 [4800/9430 (51%)]\tLoss: 0.953304\n",
            "Train Epoch: 5 [7200/9430 (76%)]\tLoss: 0.934082\n",
            "\n",
            "Test set: Average loss: 0.0170, Accuracy: 1732.0/2358 (73%)\n",
            "\n",
            "Train Epoch: 6 [0/9430 (0%)]\tLoss: 0.534695\n",
            "Train Epoch: 6 [2400/9430 (25%)]\tLoss: 0.772819\n",
            "Train Epoch: 6 [4800/9430 (51%)]\tLoss: 0.572139\n",
            "Train Epoch: 6 [7200/9430 (76%)]\tLoss: 0.607316\n",
            "\n",
            "Test set: Average loss: 0.0151, Accuracy: 1777.0/2358 (75%)\n",
            "\n",
            "Train Epoch: 7 [0/9430 (0%)]\tLoss: 0.531025\n",
            "Train Epoch: 7 [2400/9430 (25%)]\tLoss: 0.399503\n",
            "Train Epoch: 7 [4800/9430 (51%)]\tLoss: 0.336273\n",
            "Train Epoch: 7 [7200/9430 (76%)]\tLoss: 0.470122\n",
            "\n",
            "Test set: Average loss: 0.0140, Accuracy: 1812.0/2358 (77%)\n",
            "\n",
            "Train Epoch: 8 [0/9430 (0%)]\tLoss: 0.295771\n",
            "Train Epoch: 8 [2400/9430 (25%)]\tLoss: 0.318098\n",
            "Train Epoch: 8 [4800/9430 (51%)]\tLoss: 0.394219\n",
            "Train Epoch: 8 [7200/9430 (76%)]\tLoss: 0.306268\n",
            "\n",
            "Test set: Average loss: 0.0133, Accuracy: 1822.0/2358 (77%)\n",
            "\n",
            "Train Epoch: 9 [0/9430 (0%)]\tLoss: 0.244272\n",
            "Train Epoch: 9 [2400/9430 (25%)]\tLoss: 0.189452\n",
            "Train Epoch: 9 [4800/9430 (51%)]\tLoss: 0.197287\n",
            "Train Epoch: 9 [7200/9430 (76%)]\tLoss: 0.175996\n",
            "\n",
            "Test set: Average loss: 0.0136, Accuracy: 1815.0/2358 (77%)\n",
            "\n",
            "Train Epoch: 10 [0/9430 (0%)]\tLoss: 0.207580\n",
            "Train Epoch: 10 [2400/9430 (25%)]\tLoss: 0.136074\n",
            "Train Epoch: 10 [4800/9430 (51%)]\tLoss: 0.127836\n",
            "Train Epoch: 10 [7200/9430 (76%)]\tLoss: 0.071168\n",
            "\n",
            "Test set: Average loss: 0.0127, Accuracy: 1849.0/2358 (78%)\n",
            "\n",
            "Train Epoch: 11 [0/9430 (0%)]\tLoss: 0.122237\n",
            "Train Epoch: 11 [2400/9430 (25%)]\tLoss: 0.104582\n",
            "Train Epoch: 11 [4800/9430 (51%)]\tLoss: 0.074553\n",
            "Train Epoch: 11 [7200/9430 (76%)]\tLoss: 0.151225\n",
            "\n",
            "Test set: Average loss: 0.0130, Accuracy: 1853.0/2358 (79%)\n",
            "\n",
            "Train Epoch: 12 [0/9430 (0%)]\tLoss: 0.078230\n",
            "Train Epoch: 12 [2400/9430 (25%)]\tLoss: 0.056538\n",
            "Train Epoch: 12 [4800/9430 (51%)]\tLoss: 0.052622\n",
            "Train Epoch: 12 [7200/9430 (76%)]\tLoss: 0.040293\n",
            "\n",
            "Test set: Average loss: 0.0126, Accuracy: 1862.0/2358 (79%)\n",
            "\n",
            "Train Epoch: 13 [0/9430 (0%)]\tLoss: 0.051877\n",
            "Train Epoch: 13 [2400/9430 (25%)]\tLoss: 0.042626\n",
            "Train Epoch: 13 [4800/9430 (51%)]\tLoss: 0.067739\n",
            "Train Epoch: 13 [7200/9430 (76%)]\tLoss: 0.080369\n",
            "\n",
            "Test set: Average loss: 0.0131, Accuracy: 1833.0/2358 (78%)\n",
            "\n",
            "Train Epoch: 14 [0/9430 (0%)]\tLoss: 0.040511\n",
            "Train Epoch: 14 [2400/9430 (25%)]\tLoss: 0.073837\n",
            "Train Epoch: 14 [4800/9430 (51%)]\tLoss: 0.029007\n",
            "Train Epoch: 14 [7200/9430 (76%)]\tLoss: 0.113479\n",
            "\n",
            "Test set: Average loss: 0.0129, Accuracy: 1859.0/2358 (79%)\n",
            "\n",
            "Train Epoch: 15 [0/9430 (0%)]\tLoss: 0.043419\n",
            "Train Epoch: 15 [2400/9430 (25%)]\tLoss: 0.028069\n",
            "Train Epoch: 15 [4800/9430 (51%)]\tLoss: 0.029963\n",
            "Train Epoch: 15 [7200/9430 (76%)]\tLoss: 0.025426\n",
            "\n",
            "Test set: Average loss: 0.0132, Accuracy: 1856.0/2358 (79%)\n",
            "\n",
            "CPU times: user 1h 28min 1s, sys: 11min 45s, total: 1h 39min 47s\n",
            "Wall time: 1h 43min 31s\n"
          ],
          "name": "stdout"
        }
      ]
    },
    {
      "metadata": {
        "id": "eqZRLiS6jG7l",
        "colab_type": "code",
        "colab": {
          "base_uri": "https://localhost:8080/",
          "height": 806
        },
        "outputId": "c80a159e-952a-449e-faf6-c9089e8c56d8"
      },
      "cell_type": "code",
      "source": [
        "plotGraph(range(epochs), trainLoss, 'Epochs', 'Loss', 'Training Loss')\n",
        "plotGraph(range(epochs), testLoss, 'Epochs', 'Loss', 'Test Loss')\n",
        "plotGraph(range(epochs), testAcc, 'Epochs', 'Accuracy', 'Test Accuracy')"
      ],
      "execution_count": 13,
      "outputs": [
        {
          "output_type": "display_data",
          "data": {
            "image/png": "[encoded data removed]",
            "text/plain": [
              "<matplotlib.figure.Figure at 0x7fbd83a35470>"
            ]
          },
          "metadata": {
            "tags": []
          }
        },
        {
          "output_type": "display_data",
          "data": {
            "image/png": "[encoded data removed]",
            "text/plain": [
              "<matplotlib.figure.Figure at 0x7fbd83a5deb8>"
            ]
          },
          "metadata": {
            "tags": []
          }
        },
        {
          "output_type": "display_data",
          "data": {
            "image/png": "[encoded data removed]",
            "text/plain": [
              "<matplotlib.figure.Figure at 0x7fbdcde4f6d8>"
            ]
          },
          "metadata": {
            "tags": []
          }
        }
      ]
    }
  ]
}